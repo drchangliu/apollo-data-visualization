{
 "cells": [
  {
   "cell_type": "markdown",
   "metadata": {},
   "source": [
    "# Introduction\n",
    "Note: Please use a more complete notebook file at the upper level.\n",
    "\n",
    "**This requires access to a physical monitor** to viewer the point cloud. The disadvantage of this method is that\n",
    "the points cannot be color coded with the annotation information.\n",
    "\n",
    "# Requirements\n",
    "\n",
    "## Python packages\n",
    "The following packages have to be installed.\n",
    "- numpy\n",
    "- scipy\n",
    "- pandas\n",
    "- pptk\n",
    "\n",
    "## Data\n",
    "The sample point cloud data from Apollo. The extracted file should be one level higher than this directory, basically the extracted folder must be at `<path-to-project-root>/privacy/lidar-visualization/`."
   ]
  },
  {
   "cell_type": "code",
   "execution_count": 1,
   "metadata": {},
   "outputs": [],
   "source": [
    "from time import sleep\n",
    "\n",
    "import numpy as np\n",
    "import pandas as pd\n",
    "import pptk"
   ]
  },
  {
   "cell_type": "code",
   "execution_count": 2,
   "metadata": {},
   "outputs": [],
   "source": [
    "# Config dtype for numpy.\n",
    "names = ('x', 'y', 'z', 'i')\n",
    "offsets = (0, 4, 8, 12)\n",
    "formats = ('f4', 'f4', 'f4', 'f4')\n",
    "dt = np.dtype({\n",
    "    'names': names,\n",
    "    'offsets': offsets,\n",
    "    'formats': formats,\n",
    "}, align=True)"
   ]
  },
  {
   "cell_type": "code",
   "execution_count": 3,
   "metadata": {},
   "outputs": [],
   "source": [
    "# Load frames\n",
    "frames = []\n",
    "for i in range(100):\n",
    "    frame = pd.DataFrame(np.fromfile('../3d-sample/bin_files/002_%08d.bin' % i, dt))\n",
    "    frames.append(frame)"
   ]
  },
  {
   "cell_type": "markdown",
   "metadata": {},
   "source": [
    "# Displaying\n",
    "\n",
    "These segments below require physical access to a monitor."
   ]
  },
  {
   "cell_type": "code",
   "execution_count": 4,
   "metadata": {},
   "outputs": [],
   "source": [
    "# Display the first frame.\n",
    "v = pptk.viewer(frames[0][['x', 'y', 'z']])\n",
    "v.set(point_size=0.001)"
   ]
  },
  {
   "cell_type": "markdown",
   "metadata": {},
   "source": [
    "Please run each segment below manually."
   ]
  },
  {
   "cell_type": "code",
   "execution_count": 29,
   "metadata": {},
   "outputs": [],
   "source": [
    "i = 0"
   ]
  },
  {
   "cell_type": "markdown",
   "metadata": {},
   "source": [
    "Run the following code to get viewer to show the *previous* frame."
   ]
  },
  {
   "cell_type": "code",
   "execution_count": 76,
   "metadata": {},
   "outputs": [],
   "source": [
    "# Previous frame\n",
    "i = i - 1\n",
    "if i <= 0:\n",
    "    i = 0\n",
    "v.clear()\n",
    "v.load(frames[i][['x', 'y', 'z']])"
   ]
  },
  {
   "cell_type": "markdown",
   "metadata": {},
   "source": [
    "Run the following code to get viewer to show the *next* frame."
   ]
  },
  {
   "cell_type": "code",
   "execution_count": 80,
   "metadata": {},
   "outputs": [],
   "source": [
    "# Next frame\n",
    "i = i + 1\n",
    "if i >= 99:\n",
    "    i = 99\n",
    "v.clear()\n",
    "v.load(frames[i][['x', 'y', 'z']])"
   ]
  },
  {
   "cell_type": "markdown",
   "metadata": {},
   "source": [
    "Run the following code to get the viewer to loop over each frame"
   ]
  },
  {
   "cell_type": "code",
   "execution_count": 15,
   "metadata": {},
   "outputs": [],
   "source": [
    "# Loop to display the other frames\n",
    "for i in range(100):\n",
    "    v.clear()\n",
    "    v.load(frames[i][['x', 'y', 'z']])\n",
    "    sleep(1)"
   ]
  },
  {
   "cell_type": "code",
   "execution_count": 81,
   "metadata": {},
   "outputs": [],
   "source": [
    "v.close()"
   ]
  }
 ],
 "metadata": {
  "kernelspec": {
   "display_name": "Python 3",
   "language": "python",
   "name": "python3"
  },
  "language_info": {
   "codemirror_mode": {
    "name": "ipython",
    "version": 3
   },
   "file_extension": ".py",
   "mimetype": "text/x-python",
   "name": "python",
   "nbconvert_exporter": "python",
   "pygments_lexer": "ipython3",
   "version": "3.7.1"
  }
 },
 "nbformat": 4,
 "nbformat_minor": 2
}
